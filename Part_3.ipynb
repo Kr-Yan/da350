{
 "cells": [
  {
   "cell_type": "code",
   "execution_count": 2,
   "metadata": {},
   "outputs": [],
   "source": [
    "import pandas as pd\n",
    "import numpy as np\n",
    "import statistics\n",
    "import math\n",
    "from sklearn.model_selection import train_test_split\n",
    "from sklearn.linear_model import LinearRegression\n",
    "from sklearn.model_selection import KFold\n",
    "from sklearn.svm import SVR\n"
   ]
  },
  {
   "cell_type": "code",
   "execution_count": 3,
   "metadata": {},
   "outputs": [
    {
     "name": "stderr",
     "output_type": "stream",
     "text": [
      "/Users/kairuoyan/anaconda3/lib/python3.7/site-packages/ipykernel_launcher.py:16: SettingWithCopyWarning: \n",
      "A value is trying to be set on a copy of a slice from a DataFrame\n",
      "\n",
      "See the caveats in the documentation: http://pandas.pydata.org/pandas-docs/stable/user_guide/indexing.html#returning-a-view-versus-a-copy\n",
      "  app.launch_new_instance()\n",
      "/Users/kairuoyan/anaconda3/lib/python3.7/site-packages/ipykernel_launcher.py:17: SettingWithCopyWarning: \n",
      "A value is trying to be set on a copy of a slice from a DataFrame\n",
      "\n",
      "See the caveats in the documentation: http://pandas.pydata.org/pandas-docs/stable/user_guide/indexing.html#returning-a-view-versus-a-copy\n",
      "/Users/kairuoyan/anaconda3/lib/python3.7/site-packages/ipykernel_launcher.py:18: SettingWithCopyWarning: \n",
      "A value is trying to be set on a copy of a slice from a DataFrame\n",
      "\n",
      "See the caveats in the documentation: http://pandas.pydata.org/pandas-docs/stable/user_guide/indexing.html#returning-a-view-versus-a-copy\n"
     ]
    }
   ],
   "source": [
    "listings_df = pd.read_csv('listings_new.csv')\n",
    "\n",
    "#Remove unwanted characters from the column\n",
    "listings_df['host_response_rate'] = listings_df['host_response_rate'].astype('str')\n",
    "for i, v in listings_df['host_response_rate'].items():\n",
    "    if v != 'nan':\n",
    "        listings_df.at[i, 'host_response_rate'] = int(v.replace('%', ''))/100\n",
    "    else:\n",
    "        listings_df.at[i, 'host_response_rate'] = None\n",
    "\n",
    "#Drop NA from these columns\n",
    "listings_df.dropna(subset=['host_response_rate', 'review_scores_rating', 'review_scores_accuracy', 'review_scores_cleanliness', 'review_scores_checkin', 'review_scores_communication','positivity_mean','negativity_mean','positivity_simple_mean','negativity_simple_mean'], inplace = True)\n",
    "\n",
    "#Remove unwanted characters from price column\n",
    "for i in listings_df.index:\n",
    "    listings_df['price'][i] = listings_df['price'][i].replace('$', '')\n",
    "    listings_df['price'][i] = listings_df['price'][i].replace(' ', '')\n",
    "    listings_df['price'][i] = listings_df['price'][i].replace(',', '')"
   ]
  },
  {
   "cell_type": "code",
   "execution_count": 4,
   "metadata": {},
   "outputs": [
    {
     "name": "stdout",
     "output_type": "stream",
     "text": [
      "[-2.59893062e+01  1.56956603e+00 -1.63870854e+01  1.77578109e+01\n",
      " -1.34147915e+01 -2.58850663e+00  4.88852924e+01  2.66385521e+02\n",
      " -2.11877862e+03 -6.26859630e+02]\n"
     ]
    }
   ],
   "source": [
    "#Question 6:\n",
    "#train/test split CV\n",
    "\n",
    "#Create x and y for the model\n",
    "X = listings_df[['host_response_rate', 'review_scores_rating', 'review_scores_accuracy', 'review_scores_cleanliness', 'review_scores_checkin', 'review_scores_communication','positivity_mean','negativity_mean','positivity_simple_mean','negativity_simple_mean']]\n",
    "y = listings_df['price']\n",
    "\n",
    "#Split that dataset into 30% test set and 70% train set\n",
    "X_train, X_test, y_train, y_test = train_test_split(X, y, test_size = 0.3, random_state = 42)\n",
    "\n",
    "#Create the linear model\n",
    "lm = LinearRegression()\n",
    "reg = lm.fit(X_train, y_train)\n",
    "\n",
    "#Model's coefficient and intercept\n",
    "model1_coef = reg.coef_\n",
    "model1_intercept = lm.intercept_\n",
    "\n",
    "print(model1_coef)"
   ]
  },
  {
   "cell_type": "code",
   "execution_count": 5,
   "metadata": {},
   "outputs": [
    {
     "name": "stdout",
     "output_type": "stream",
     "text": [
      "[-4.007116527223927, 1.4907603337907385, -13.47191162325123, 17.05087383942424, -13.351126483292495, -6.470245663104502, 71.08305110846904, 22.19893457219517, -1977.5292168665121, 1811.788751219187]\n"
     ]
    },
    {
     "name": "stderr",
     "output_type": "stream",
     "text": [
      "/Users/kairuoyan/anaconda3/lib/python3.7/site-packages/sklearn/model_selection/_split.py:296: FutureWarning: Setting a random_state has no effect since shuffle is False. This will raise an error in 0.24. You should leave random_state to its default (None), or set shuffle=True.\n",
      "  FutureWarning\n"
     ]
    }
   ],
   "source": [
    "#K-fold CV (where k=5)\n",
    "\n",
    "#Split the dataset into 5\n",
    "kfold = KFold(n_splits=5, random_state = 42, shuffle = False)\n",
    "KFold_coef_list, KFold_intercept_list = [], []\n",
    "#Train the model\n",
    "for train_index, test_index in kfold.split(X):\n",
    "    X_train, X_test = X.iloc[train_index], X.iloc[test_index]\n",
    "    y_train, y_test = y.iloc[train_index], y.iloc[test_index]\n",
    "    lm = LinearRegression()\n",
    "    reg = lm.fit(X_train, y_train)\n",
    "    KFold_coef_list.append(list(reg.coef_))\n",
    "    KFold_intercept_list.append(reg.intercept_)\n",
    "\n",
    "#Calculating coefficient and intercept\n",
    "model2_intercept = statistics.median(KFold_intercept_list) \n",
    "model2_coef = []\n",
    "for i in range(len(KFold_coef_list[0])):\n",
    "    model2_coef.append(statistics.median([item[i] for item in KFold_coef_list]))\n",
    "    \n",
    "print(model2_coef)\n"
   ]
  },
  {
   "cell_type": "code",
   "execution_count": 6,
   "metadata": {},
   "outputs": [
    {
     "name": "stderr",
     "output_type": "stream",
     "text": [
      "/Users/kairuoyan/anaconda3/lib/python3.7/site-packages/sklearn/model_selection/_split.py:296: FutureWarning: Setting a random_state has no effect since shuffle is False. This will raise an error in 0.24. You should leave random_state to its default (None), or set shuffle=True.\n",
      "  FutureWarning\n"
     ]
    }
   ],
   "source": [
    "#LOOCV\n",
    "\n",
    "#Split the dataset in n-times (n = number of observation in the dataset)\n",
    "kf = KFold(n_splits=len(listings_df), random_state = 103, shuffle = False)\n",
    "KFold_coef_list, KFold_intercept_list = [], []\n",
    "\n",
    "#print(kf)\n",
    "#Train the model\n",
    "for train_index, test_index in kf.split(X):\n",
    "    X_train, X_test = X.iloc[train_index], X.iloc[test_index]\n",
    "    y_train, y_test = y.iloc[train_index], y.iloc[test_index]\n",
    "    lm = LinearRegression()\n",
    "    reg = lm.fit(X_train, y_train)\n",
    "    KFold_coef_list.append(list(reg.coef_))\n",
    "    KFold_intercept_list.append(reg.intercept_)\n",
    "\n",
    "#Calculating model's coefficient and intercept\n",
    "model3_intercept = statistics.median(KFold_intercept_list)\n",
    "model3_coef = []\n",
    "for i in range(len(KFold_coef_list[0])):\n",
    "    model3_coef.append(statistics.median([item[i] for item in KFold_coef_list]))\n",
    "    \n"
   ]
  },
  {
   "cell_type": "code",
   "execution_count": 7,
   "metadata": {},
   "outputs": [],
   "source": [
    "#Question 7:\n",
    "def squared_error(y_observed,y_predicted):\n",
    "    y_observed = np.array(y_observed, dtype = np.float64)\n",
    "    y_predicted = np.array(y_predicted, dtype = np.float64)\n",
    "    return sum((y_predicted - y_observed) * (y_predicted - y_observed))\n",
    "\n",
    "def r_squared(y_observed,y_predicted):\n",
    "    y_observed = np.array(y_observed, dtype = np.float64)\n",
    "    y_predicted = np.array(y_predicted, dtype = np.float64)\n",
    "    y_mean = [y_observed.mean() for y in y_observed]\n",
    "    squared_error_regr = squared_error(y_observed, y_predicted)\n",
    "    squared_error_mean = squared_error(y_observed, y_mean)\n",
    "    return 1 - (squared_error_regr/squared_error_mean) \n",
    "\n",
    "def mean_squared_error(y_observed,y_predicted):\n",
    "    y_observed = np.array(y_observed, dtype = np.float64)\n",
    "    y_predicted = np.array(y_predicted, dtype = np.float64)\n",
    "    return (squared_error(y_observed,y_predicted))*(1/len(y_observed))\n",
    "\n",
    "def root_mean_squared_error(y_observed, y_predicted):\n",
    "    y_observed = np.array(y_observed, dtype = np.float64)\n",
    "    y_predicted = np.array(y_predicted, dtype = np.float64)\n",
    "    return math.sqrt(mean_squared_error(y_observed,y_predicted))\n",
    "\n",
    "def MAPE(y_observed, y_predicted):\n",
    "    y_observed = np.array(y_observed, dtype = np.float64)\n",
    "    y_predicted = np.array(y_predicted, dtype = np.float64)\n",
    "    return (abs((y_observed - y_predicted)/y_observed) * 100).mean()"
   ]
  },
  {
   "cell_type": "code",
   "execution_count": 14,
   "metadata": {},
   "outputs": [],
   "source": [
    "#Build a function to predict y\n",
    "def predict(intercept, list_coef, X):\n",
    "    y_predicted = []\n",
    "    for index, row in X.iterrows():\n",
    "        y = intercept\n",
    "        for i in range(len(row)):\n",
    "            y += list_coef[i] * row[i]\n",
    "        y_predicted.append(y)\n",
    "    return y_predicted\n",
    "\n",
    "#y values predicted for each model\n",
    "y_predicted1 = predict(model1_intercept, model1_coef, X)\n",
    "y_predicted2 = predict(model2_intercept, model2_coef, X)\n",
    "y_predicted3 = predict(model3_intercept, model3_coef, X)\n",
    "#print(y_predicted1)"
   ]
  },
  {
   "cell_type": "code",
   "execution_count": 8,
   "metadata": {},
   "outputs": [],
   "source": [
    "#Create a table that shows different error rates corresponding to different types of cross-validations and cost functions\n",
    "d = {'CV': ['Train/Test CV', 'K-Fold CV', 'LOOCV'], 'R-squared': [round(r_squared(y, y_predicted1),3), round(r_squared(y, y_predicted2),3), round(r_squared(y, y_predicted3),3)], 'MSE': [round(mean_squared_error(y, y_predicted1), 2), round(mean_squared_error(y, y_predicted2), 2), round(mean_squared_error(y, y_predicted3), 2)], 'Root MSE': [round(root_mean_squared_error(y, y_predicted1), 2), round(root_mean_squared_error(y, y_predicted2), 2), round(root_mean_squared_error(y, y_predicted3), 2)], 'MAPE': [round(MAPE(y, y_predicted1),2), round(MAPE(y, y_predicted2),2), round(MAPE(y, y_predicted3),2)]}\n",
    "\n",
    "table = pd.DataFrame(d)\n",
    "\n",
    "#Store the table to CSV file for later use\n",
    "table.to_csv('error_table.csv', index=False)"
   ]
  },
  {
   "cell_type": "code",
   "execution_count": null,
   "metadata": {},
   "outputs": [],
   "source": []
  }
 ],
 "metadata": {
  "kernelspec": {
   "display_name": "Python 3",
   "language": "python",
   "name": "python3"
  },
  "language_info": {
   "codemirror_mode": {
    "name": "ipython",
    "version": 3
   },
   "file_extension": ".py",
   "mimetype": "text/x-python",
   "name": "python",
   "nbconvert_exporter": "python",
   "pygments_lexer": "ipython3",
   "version": "3.7.6"
  }
 },
 "nbformat": 4,
 "nbformat_minor": 4
}
