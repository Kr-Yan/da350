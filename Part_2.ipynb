{
 "cells": [
  {
   "cell_type": "code",
   "execution_count": 1,
   "metadata": {},
   "outputs": [
    {
     "name": "stderr",
     "output_type": "stream",
     "text": [
      "[nltk_data] Downloading package punkt to /Users/kairuoyan/nltk_data...\n",
      "[nltk_data]   Package punkt is already up-to-date!\n",
      "[nltk_data] Downloading package vader_lexicon to\n",
      "[nltk_data]     /Users/kairuoyan/nltk_data...\n",
      "[nltk_data]   Package vader_lexicon is already up-to-date!\n"
     ]
    }
   ],
   "source": [
    "#Import packages\n",
    "import pandas as pd\n",
    "import nltk\n",
    "nltk.download('punkt')\n",
    "nltk.download('vader_lexicon')\n",
    "#from textblob import TextBlob\n",
    "import pandas as pd\n",
    "import numpy as np\n",
    "from nltk.classify import NaiveBayesClassifier\n",
    "from nltk.corpus import subjectivity\n",
    "from nltk.sentiment import SentimentAnalyzer\n",
    "from nltk.sentiment.util import *\n",
    "from nltk.sentiment.vader import SentimentIntensityAnalyzer\n",
    "from nltk import tokenize"
   ]
  },
  {
   "cell_type": "code",
   "execution_count": 2,
   "metadata": {},
   "outputs": [
    {
     "name": "stdout",
     "output_type": "stream",
     "text": [
      "Sentiment analysis for: reviews\n"
     ]
    }
   ],
   "source": [
    "#Question 3:\n",
    "\n",
    "#Setting up columns for sentiment analysis\n",
    "sentiment_analysis_columns = ['negativity', 'neutrality', 'positivity', 'compound']\n",
    "\n",
    "file_names = ['reviews']\n",
    "\n",
    "sid = SentimentIntensityAnalyzer()\n",
    "#Sentiment analysis\n",
    "for i in range(len(file_names)):\n",
    "    expanded_text_dataset = []\n",
    "    file_name = file_names[i]\n",
    "    print('Sentiment analysis for: %s' %file_name)\n",
    "    file_df = pd.read_csv('%s.csv' % file_name)\n",
    "    column_names = list(file_df.columns.values)\n",
    "    all_columns = column_names + sentiment_analysis_columns\n",
    "    text_segment_list = list(file_df['comments'])\n",
    "    for j in range(len(text_segment_list)):\n",
    "        row_info = list(file_df.iloc[j])\n",
    "        text = text_segment_list[j]\n",
    "        ##Sentiment analysis\n",
    "        try:\n",
    "            ss = sid.polarity_scores(text)\n",
    "            negativity = ss['neg']\n",
    "            neutrality = ss['neu']\n",
    "            positivity = ss['pos']\n",
    "            compound = ss['compound']\n",
    "            temp_data = row_info + [negativity, neutrality, positivity, compound]\n",
    "            expanded_text_dataset.append(temp_data)\n",
    "        except:\n",
    "            temp_data = row_info + ['NA', 'NA', 'NA', 'NA']\n",
    "            expanded_text_dataset.append(temp_data)\n",
    "    ##Storing the results in a dataset\n",
    "    sentiment_dataset_df = pd.DataFrame(expanded_text_dataset, columns = all_columns)\n",
    "    sentiment_dataset_df.to_csv('%s.csv' %file_name, index = False)"
   ]
  },
  {
   "cell_type": "code",
   "execution_count": 3,
   "metadata": {},
   "outputs": [
    {
     "name": "stderr",
     "output_type": "stream",
     "text": [
      "/Users/kairuoyan/anaconda3/lib/python3.7/site-packages/ipykernel_launcher.py:22: SettingWithCopyWarning: \n",
      "A value is trying to be set on a copy of a slice from a DataFrame\n",
      "\n",
      "See the caveats in the documentation: http://pandas.pydata.org/pandas-docs/stable/user_guide/indexing.html#returning-a-view-versus-a-copy\n",
      "/Users/kairuoyan/anaconda3/lib/python3.7/site-packages/ipykernel_launcher.py:23: SettingWithCopyWarning: \n",
      "A value is trying to be set on a copy of a slice from a DataFrame\n",
      "\n",
      "See the caveats in the documentation: http://pandas.pydata.org/pandas-docs/stable/user_guide/indexing.html#returning-a-view-versus-a-copy\n"
     ]
    }
   ],
   "source": [
    "#Question 4:\n",
    "#Import new datasets\n",
    "reviews_df = pd.read_csv(\"reviews.csv\")\n",
    "neg_df = pd.read_csv(\"negative_words.csv\", encoding='cp1252', header = None)\n",
    "pos_df = pd.read_csv(\"positive_words.csv\", header= None)\n",
    "reviews_df['comments'] = reviews_df['comments'].astype(str)\n",
    "\n",
    "#Create two new columns for calculation\n",
    "reviews_df['negativity_simple'] = None\n",
    "reviews_df['positivity_simple'] = None\n",
    "\n",
    "#Count total words, negative words, and positive words in each comment\n",
    "for i in range(len(reviews_df['comments'])):\n",
    "    cmt = reviews_df['comments'][i].split()\n",
    "    pos_word = 0\n",
    "    neg_word = 0\n",
    "    for word in cmt:\n",
    "        if word in pos_df.values:\n",
    "            pos_word =+ 1\n",
    "        if word in neg_df.values:\n",
    "            neg_word =+ 1\n",
    "    reviews_df['positivity_simple'][i] = pos_word/len(reviews_df['comments'][i])\n",
    "    reviews_df['negativity_simple'][i] = neg_word/len(reviews_df['comments'][i])"
   ]
  },
  {
   "cell_type": "code",
   "execution_count": 4,
   "metadata": {},
   "outputs": [],
   "source": [
    "#Question 5:\n",
    "reviews_df = reviews_df.astype({'positivity_simple': 'float', 'negativity_simple': 'float'})\n",
    "listings_df = pd.read_csv('listings.csv')\n",
    "listings_df.set_index('listing_id', inplace= True)\n",
    "\n",
    "#New columns for listings_df\n",
    "col = ['negativity_mean', 'neutrality_mean', 'positivity_mean', 'compound_mean','positivity_simple_mean', 'negativity_simple_mean']\n",
    "\n",
    "#Putting these new columns into listings_df\n",
    "for i in col:\n",
    "    score = reviews_df.groupby('listing_id').agg({i.replace('_mean', ''): 'mean'})\n",
    "    score.rename(columns={i.replace('_mean', '') : i}, inplace=True)\n",
    "    listings_df = listings_df.join(score, on='listing_id', how= 'outer')"
   ]
  },
  {
   "cell_type": "code",
   "execution_count": 5,
   "metadata": {},
   "outputs": [],
   "source": [
    "#Create new CSV file for later use\n",
    "listings_df.to_csv('listings_new.csv', index=False)"
   ]
  },
  {
   "cell_type": "code",
   "execution_count": null,
   "metadata": {},
   "outputs": [],
   "source": []
  }
 ],
 "metadata": {
  "kernelspec": {
   "display_name": "Python 3",
   "language": "python",
   "name": "python3"
  },
  "language_info": {
   "codemirror_mode": {
    "name": "ipython",
    "version": 3
   },
   "file_extension": ".py",
   "mimetype": "text/x-python",
   "name": "python",
   "nbconvert_exporter": "python",
   "pygments_lexer": "ipython3",
   "version": "3.7.6"
  }
 },
 "nbformat": 4,
 "nbformat_minor": 4
}
