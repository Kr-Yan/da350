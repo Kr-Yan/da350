import pandas as pd 
import math
import numpy as np
import matplotlib.pyplot as plt
pd.options.mode.chained_assignment = None

#Import the dataset into Jupyter
titanic_df=pd.read_excel("titanic_data.xlsx")
titanic_df
with_m=titanic_df

#Question 1
#Drop all rows that contains missing values in 'Age' column
titanic_df=titanic_df.dropna(subset=["Age"])
#Calculate and print the number of missing values in the dataset
n_missing=len(with_m)-len(titanic_df)
print("The number of missing values are", n_missing)
#Calculate and print the percentage of missing values in the dataset
perc_m= (n_missing/len(titanic_df))
print("The percentage of missing values is {:.2%}".format(perc_m))

#Question 2
#Create 'NotAlone' column, add it to the original dataset
titanic_df.loc[:, "NotAlone"]=0

#Set values for passengers with relatives on board
for index,row in titanic_df.iterrows(): #Loop through every row in the dataset
    if row["SibSp"]==0 and row["Parch"]==0:
        titanic_df.loc[index, "NotAlone"]=0 #If there are no relatives set value to 0
    else:
        titanic_df.loc[index, "NotAlone"]=1 #Otherwise set value to 1      

#Question 3:
#Split the dataset into three groups of passengers
titanic_df1=titanic_df.groupby("Pclass")

#Store them accordingly
titanic_df_passenger_class_1 = titanic_df1.get_group(1)
titanic_df_passenger_class_2 = titanic_df1.get_group(2)
titanic_df_passenger_class_3 = titanic_df1.get_group(3)

#Print the number of passengers in each group
print("There are",len(titanic_df_passenger_class_1), "people in the first class")
print("There are", len(titanic_df_passenger_class_2), "people in the second class")
print("There are", len(titanic_df_passenger_class_3), "people in the third class")
print("The biggest passenger class is the third class")

# titanic_df_passenger_class_1
# Age
print("The mean age for class 1 is",titanic_df_passenger_class_1['Age'].mean())
print("The median age for class 1 is",titanic_df_passenger_class_1['Age'].median())
#Fare
print("\n")
print("The mean fare for class 1 is",titanic_df_passenger_class_1['Fare'].mean())
print("The median fare for class 1 is",titanic_df_passenger_class_1['Fare'].median())
print("\n\n")
# titanic_df_passenger_class_2
# Age
print("The mean age for class 2 is",titanic_df_passenger_class_2['Age'].mean())
print("The median age for class 2 is",titanic_df_passenger_class_2['Age'].median())
print("\n")
#Fare
print("The mean fare for class 2 is",titanic_df_passenger_class_2['Fare'].mean())
print("The median fare for class 2 is",titanic_df_passenger_class_2['Fare'].median())
print("\n\n")
# titanic_df_passenger_class_3
# Age
print("The mean age for class 3 is",titanic_df_passenger_class_3['Age'].mean())
print("The median age for class 3 is",titanic_df_passenger_class_3['Age'].median())
print("\n")
#Fare
print("The mean fare for class 3 is",titanic_df_passenger_class_3['Fare'].mean())
print("The median fare for class 3 is",titanic_df_passenger_class_3['Fare'].median())
print("\n\n")
print("Class 1 has the highest mean age and Class 3 has the lowest mean age")
print("Class 1 has the highest mean fare and Class 3 has the lowest mean fare")
print("Class 1 has the highest median age and Class 3 has the lowest median age")
print("Class1 has the highest median fare and Class 3 has the lowest median fare")

#Question 4:
#Create two empty lists
titanic_df_survived=[]
titanic_df_not_survived=[]

for index,row in titanic_df.iterrows(): #Loop through every row in the dataset
    if row["Survived"]==1: #If one survived, append the row to survived list
        titanic_df_survived.append(row)
    else:
        titanic_df_not_survived.append(row) #If one not survived, append the row to unsurvived list
        
titanic_df_survived=pd.DataFrame(titanic_df_survived) # make a list to a dataframe
titanic_df_not_survived= pd.DataFrame(titanic_df_not_survived) # make a list to a dataframe

print("There are",len(titanic_df_survived), "survived" )
print("There are",len(titanic_df_not_survived), "unsurvived" )

#Calculate how many people survived and how many people died in each passenger class
print('Number of people survived in class 1: '+str(titanic_df_passenger_class_1['Survived'].value_counts()[1])) #Separate the Suvived column into 0(did not suvived) and 1(survived), and count their frequency
print('Number of people did not survived in class 1: '+str(titanic_df_passenger_class_1['Survived'].value_counts()[0]))
print('Number of people survived in class 2: '+str(titanic_df_passenger_class_2['Survived'].value_counts()[1]))
print('Number of people did not survived in class 2: '+str(titanic_df_passenger_class_2['Survived'].value_counts()[0]))
print('Number of people survived in class 3: '+str(titanic_df_passenger_class_3['Survived'].value_counts()[1]))
print('Number of people did notsurvived in class 3: '+str(titanic_df_passenger_class_3['Survived'].value_counts()[0]))

#Question 5:
def variance(data):
    # Mean of the data
    mean = sum(data) / len(data)
    # Square deviations
    deviations = []
    for x in data:
        deviations.append((x-mean)**2)
    deviations = [(x - mean) ** 2 for x in data]
    # Variance
    variance = sum(deviations) / len(data)
    return variance

def stdev(data):
    var = variance(data)
    #Square root the variance
    std_dev = math.sqrt(var)
    return std_dev
    
def corr(data1, data2):
    #Calculate the mean of each list
    mean1 = sum(data1) / len(data1)
    mean2 = sum(data2) / len(data2)
    #Calculate deviation 
    dev1 = [(x - mean1) for x in data1]
    dev2 = [(x - mean2) for x in data2]
    dev3 = []
    for x,y in zip(dev1,dev2):
        dev3.append(x*y)
    #Calculate the correlation
    corr = (sum(dev3))/(stdev(data1)*stdev(data2))
    return corr/len(data1)
	
#Question 6:
#Create a new dataframe to store the correlation
corr_matrix = pd.DataFrame(index = ['Survived', 'Age', 'SibSp', 'Parch', 'Fare', 'NotAlone'],columns= ['Survived', 'Age', 'SibSp', 'Parch', 'Fare', 'NotAlone'])

col = ['Survived', 'Age', 'SibSp', 'Parch', 'Fare', 'NotAlone']

#Calculate the correlation between each variable and put them into a table
for x in col:
    for y in col:
        corr_matrix.at[x,y] = corr(titanic_df[x],titanic_df[y])
corr_matrix

#Question 7:
#Calculate the standard deviation for Age and Fare
stdev(titanic_df['Age'])
stdev(titanic_df['Fare'])

#The standard deviation for Age is 14.516321150817317
#The standard deviation for Fare is 52.881858444051744

Q1 = np.percentile(titanic_df['Age'], 25, interpolation = 'midpoint') 
Q3 = np.percentile(titanic_df['Age'], 75, interpolation = 'midpoint')
IQR_age = Q3 - Q1

#With the median age is 28, and the 1st quartile is 20.25 and the 3rd quartile is 38 (IQR = 17.75). This means that 25% of passengers are younger than 20.25, 25% of passengers between 20.25 and 28, 25% between 28 and 38, and 25% are more than 38 years old. The shape of the data is leaning toward younger passengers with a long right tail. With the mean of 29.699, this means that the majority of observations are below the mean.

Q1 = np.percentile(titanic_df['Fare'], 25, interpolation = 'midpoint') 
Q3 = np.percentile(titanic_df['Fare'], 75, interpolation = 'midpoint')
IQR_fare = Q3 - Q1

#With the median fare is 15.7417, and the 1st quartile is 8.05 and the 3rd quartile is 33.25 (IQR = 25.2). This means that 25% of passengers paid less than 8.05, 25% of passengers paid between 8.05 and 15.7417, 25% between 15.7417 and 33.25, and 25% paid more than 33.25. The shape of the data is leaning toward cheaper passenger fare with a long right tail. With the mean of 34.69, this means that the majority of observations are below the mean.

#Question 8:
#Create a group of female who are in first classes and calculate the survival rate
female_1=titanic_df.loc[(titanic_df["Sex"]=="female")& (titanic_df["Pclass"]==1), :] 
Psurv_fem1= len(female_1.loc[titanic_df["Survived"]==1, :])/len(female_1)
print("The female survival rate in the first class is {:.2%}".format(Psurv_fem1))

#Create a group of female who are in second classes and calculate the survival rate
female_2=titanic_df.loc[(titanic_df["Sex"]=="female")& (titanic_df["Pclass"]==2), :]
Psurv_fem2= len(female_2.loc[titanic_df["Survived"]==1, :])/len(female_2)
print("The female survival rate in the second class is {:.2%}".format(Psurv_fem2))

#Create a group of female who are in third classes and calculate the survival rate
female_3=titanic_df.loc[(titanic_df["Sex"]=="female")& (titanic_df["Pclass"]==3), :]
Psurv_fem3= len(female_3.loc[titanic_df["Survived"]==1, :])/len(female_3)
print("The female survival rate in the third class is {:.2%}".format(Psurv_fem3))

#Create a group of male who are in first classes and calculate the survival rate
male_1=titanic_df.loc[(titanic_df["Sex"]=="male")& (titanic_df["Pclass"]==1), :]
Psurv_m1= len(male_1.loc[titanic_df["Survived"]==1, :])/len(male_1)
print("The male survival rate in the first class is {:.2%}".format(Psurv_m1))

#Create a group of male who are in second classes and calculate the survival rate
male_2=titanic_df.loc[(titanic_df["Sex"]=="male")& (titanic_df["Pclass"]==2), :]
Psurv_m2= len(male_2.loc[titanic_df["Survived"]==1, :])/len(male_2)
print("The male survival rate in the second class is {:.2%}".format(Psurv_m2))

#Create a group of male who are in third classes and calculate the survival rate
male_3=titanic_df.loc[(titanic_df["Sex"]=="male")& (titanic_df["Pclass"]==3), :]
Psurv_m3= len(male_3.loc[titanic_df["Survived"]==1, :])/len(male_3)
print("The male survival rate in the third class is {:.2%}".format(Psurv_m3))
print("\n")

# Compare which sex and passenger class have highest and lowest survival rate
print("Among female, female in the first class have highest survival rate,and female in class 3 have lowest survival rate") 
print("\n")
print("Among male, male in the first class have highest survival rate while male in the third class have lowest survival rate")

#Create a group for children who are 10 or less than 10, and those who are in third passenger class
child=titanic_df.loc[(titanic_df["Age"]<=10) & (titanic_df["Pclass"]==3), :]
#Calculate survival rate for those children
Pchild=len(child)/len(titanic_df)
print("The survival rate for child at age 10 or less in the third class is {:.2%}".format(Pchild))

# Create groups based on passenger classes and get the total fare for each class.
Eclass1=titanic_df.loc[titanic_df["Pclass"]==1, "Fare"].sum().round(2)
Eclass2=titanic_df.loc[titanic_df["Pclass"]==2, "Fare"].sum().round(2)
Eclass3=titanic_df.loc[titanic_df["Pclass"]==3, "Fare"].sum().round(2)
print("The expectation of fare for class 1 is", Eclass1)
print("The expectation of fare for class 2 is", Eclass2)
print("The expectation of fare for class 3 is", Eclass3)

#Question 9:
# Create two empty lists and set up a variable named random
all_title=[] 
random=0
title_list=[]

for index,row in titanic_df.iterrows(): # Create a forloop to iterrate over every row in the dataset 
    m=row["Name"].split(", ")  # Split strings
    all_title.append(m[1])  # Append the target value to an empty list
print(len(all_title))

all_title1=[] # create a new list
for rd in all_title: # Create a forloop to iterrate over every item in the list
    rd=rd.split(".") # Further split string
    all_title1.append(rd[0]) # Append the target value to the new empty list
    
for i in all_title1: # Create a forloop to iterrate over every item in the list
    random=i  #Assign the value of each item in the list to a variable
    if random in title_list: # Pass the repeatitive item
        pass
    else:
        title_list.append(random) # Append unique items to the new list
        
titanic_df['Title'] = np.array(all_title1)  # Add Title column to the dataset
print(title_list) # Print the list of unique titles

# Calculate the survival rates for each unique title

mr=len(titanic_df.loc[(titanic_df["Title"]=="Mr")&titanic_df["Survived"]==1, :])/len(titanic_df)
mrs=len(titanic_df.loc[(titanic_df["Title"]=="Mrs")&titanic_df["Survived"]==1, :])/len(titanic_df)
miss=len(titanic_df.loc[(titanic_df["Title"]=="Miss")&titanic_df["Survived"]==1, :])/len(titanic_df)
master=len(titanic_df.loc[(titanic_df["Title"]=="Master")&titanic_df["Survived"]==1, :])/len(titanic_df)
don=len(titanic_df.loc[(titanic_df["Title"]=="Don")&titanic_df["Survived"]==1, :])/len(titanic_df)
rev=len(titanic_df.loc[(titanic_df["Title"]=="Rev")&titanic_df["Survived"]==1, :])/len(titanic_df)
dr=len(titanic_df.loc[(titanic_df["Title"]=="Dr")&titanic_df["Survived"]==1, :])/len(titanic_df)
mme=len(titanic_df.loc[(titanic_df["Title"]=="Mme")&titanic_df["Survived"]==1, :])/len(titanic_df)

ms=len(titanic_df.loc[(titanic_df["Title"]=="Ms")&titanic_df["Survived"]==1, :])/len(titanic_df)
major=len(titanic_df.loc[(titanic_df["Title"]=="Major")&titanic_df["Survived"]==1, :])/len(titanic_df)
lady=len(titanic_df.loc[(titanic_df["Title"]=="Lady")&titanic_df["Survived"]==1, :])/len(titanic_df)
sir=len(titanic_df.loc[(titanic_df["Title"]=="Sir")&titanic_df["Survived"]==1, :])/len(titanic_df)
col=len(titanic_df.loc[(titanic_df["Title"]=="Col")&titanic_df["Survived"]==1, :])/len(titanic_df)
capt=len(titanic_df.loc[(titanic_df["Title"]=="Capt")&titanic_df["Survived"]==1, :])/len(titanic_df)
tcou=len(titanic_df.loc[(titanic_df["Title"]=="the Countess")&titanic_df["Survived"]==1, :])/len(titanic_df)
joh=len(titanic_df.loc[(titanic_df["Title"]=="Jonkheer")&titanic_df["Survived"]==1, :])/len(titanic_df)

print("The survival rate for Mr is {:.2%}".format(mr))
print("The survival rate for Mrs is {:.2%}".format(mrs))
print("The survival rate for Miss is {:.2%}".format(miss))
print("The survival rate for Master is {:.2%}".format(master))
print("The survival rate for Don is {:.2%}".format(don))
print("The survival rate for Rev is {:.2%}".format(rev))
print("The survival rate for Mme is {:.2%}".format(mme))

print("The survival rate for Ms is {:.2%}".format(ms))
print("The survival rate for Major is {:.2%}".format(major))
print("The survival rate for Lady is {:.2%}".format(lady))
print("The survival rate for Sir is {:.2%}".format(sir))
print("The survival rate for Col is {:.2%}".format(col))
print("The survival rate for Capt is {:.2%}".format(capt))
print("The survival rate for the Countess is {:.2%}".format(tcou))
print("The survival rate for Jokheer is {:.2%}".format(joh))
print("\n")

print("Among all people in Titanic, people with title Miss has the highest survival rate, which is 14.71%.") 
print("People with title Don, Rev, Capt and Jokheer have lowest survival rate, which are 0%.")
print("\n")          

#Question 10
# A bar graph
x_axis=("Survived","Dead") # Design x axis values
number=[len(titanic_df_survived),len(titanic_df_not_survived)]  # Design y axis values
plt.bar(x_axis, number, align='center', width=0.5, alpha=0.8, color="c") # Plot bar graph with charateristics
plt.xlabel('Category') # Lable x axis
plt.ylabel('Number of people') # Lable y axis
plt.title('Number of People Survived and Dead') # Give a title to the graph

# A heatmap

# Create data entries
sex=["Female","Male"]  
passenger_class=[1,2,3] 

survival_rate= np.array([[Psurv_fem1*100, Psurv_m1*100],[Psurv_fem2*100,
                    Psurv_m2*100], [Psurv_fem3*100, Psurv_m3*100]])  

# Create a heatmao
fig, ax = plt.subplots()
heatmap = ax.imshow(survival_rate,cmap='viridis')
plt.colorbar(heatmap)
# Make a title for the heatmap
plt.title('Survival Rate in Different Sex and Passenger Class')

# Show ticks
ax.set_xticks(np.arange(len(sex)))
ax.set_yticks(np.arange(3))

# Label with respectibe list entries
ax.set_xticklabels(sex)
ax.set_yticklabels(passenger_class)

# A bar graph 
#Create title for the x axis
x_axis=("Mr","Mrs", "Miss", "Master", "Ms")
#Input number for each title
number=[mr*100 ,mrs*100, miss*100, master*100, ms*100]
#Plot the graph
plt.bar(x_axis, number, align='center', width=0.6, alpha=0.8, color="forestgreen")
plt.xlabel('Title')
plt.ylabel('Survival Rate (%)')
plt.title('Top 5 Titles Who Survived the Most')

alist=[]
anlist=[]

# Gain a new dataset 

for e,t in titanic_df_survived.iterrows():
    if t["Fare"]<25.0:
        alist.append(t)
        anlist.append("<25")
    elif t["Fare"]>=25.0 and t["Fare"]<50.0:
        alist.append(t)
        anlist.append("20-50")
    elif t["Fare"]>=50.0 and t["Fare"]<100.0:
        alist.append(t)
        anlist.append("50-100")
    elif t["Fare"]>=100.0 and t["Fare"]<150.0:
        alist.append(t)
        anlist.append("100-150")
    elif t["Fare"]>=150.0 and t["Fare"]<200.0:
        alist.append(t)
        anlist.append("150-200")
    elif t["Fare"]>200.0:
        alist.append(t)
        anlist.append(">200")

alist=pd.DataFrame(alist)
alist["Fare_range"]=anlist

# Calculate the survival rate

a=len(alist.loc[alist["Fare_range"]=="<25",:])/714
b=len(alist.loc[alist["Fare_range"]=="20-50"])/714
c=len(alist.loc[alist["Fare_range"]=="50-100"])/714
d=len(alist.loc[alist["Fare_range"]=="100-150"])/714
e=len(alist.loc[alist["Fare_range"]=="150-200"])/714
f=len(alist.loc[alist["Fare_range"]==">200"])/714

y_a=[a*100,b*100,c*100,d*100,e*100, f*100]
x_a=["<25","20-50","50-100", "100-150", "150-200", ">200"] 

#plot the bar graph

plt.bar(x_a, y_a, align='center', width=0.6, alpha=0.8, color="tab:orange")
plt.xlabel('Fare Range')
plt.ylabel('Survival Rate')
plt.title('Survival Rate over Fare Range')