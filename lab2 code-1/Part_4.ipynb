{
 "cells": [
  {
   "cell_type": "code",
   "execution_count": 2,
   "metadata": {},
   "outputs": [],
   "source": [
    "import pandas as pd\n",
    "import numpy as np\n",
    "import math\n",
    "from sklearn import decomposition\n",
    "from sklearn.preprocessing import StandardScaler\n",
    "from sklearn.linear_model import LinearRegression\n",
    "from sklearn.model_selection import train_test_split\n",
    "from sklearn.decomposition import PCA "
   ]
  },
  {
   "cell_type": "code",
   "execution_count": 3,
   "metadata": {},
   "outputs": [],
   "source": [
    "#Question 8:\n",
    "listings_df = pd.read_csv('listings_new.csv')\n",
    "\n",
    "#Take only desire columns\n",
    "listings_df = listings_df[['host_response_rate', 'review_scores_rating', 'review_scores_accuracy', 'review_scores_cleanliness', 'review_scores_checkin', 'review_scores_communication','positivity_mean','negativity_mean','positivity_simple_mean','negativity_simple_mean', 'price']]\n",
    "listings_df[\"host_response_rate\"] = listings_df[\"host_response_rate\"].str.rstrip('%').astype('float') \n",
    "listings_df[\"price\"] = listings_df[\"price\"].str.strip('$ ')\n",
    "listings_df[\"price\"] = listings_df[\"price\"].str.replace(',','').astype('float')\n",
    "#Drop NA from these columns\n",
    "listings_df.dropna(subset=['host_response_rate', 'review_scores_rating', 'review_scores_accuracy', 'review_scores_cleanliness', 'review_scores_checkin', 'review_scores_communication','positivity_mean','negativity_mean','positivity_simple_mean','negativity_simple_mean', 'price'], inplace = True)"
   ]
  },
  {
   "cell_type": "code",
   "execution_count": 6,
   "metadata": {},
   "outputs": [
    {
     "name": "stdout",
     "output_type": "stream",
     "text": [
      "The coefficients are [-3.14241923 -2.880723   -3.04429126]\n"
     ]
    }
   ],
   "source": [
    "X= listings_df.drop(columns = ['price'])\n",
    "y = listings_df['price']\n",
    "\n",
    "#Split the dataset into 30% test set and 70% train set\n",
    "X_train, X_test, y_train, y_test = train_test_split(X, y, test_size = 0.3, random_state =42 )\n",
    "\n",
    "scaler = StandardScaler() \n",
    "\n",
    "#Transform both X_train and X_test using scaler\n",
    "X_train = scaler.fit_transform(X_train) \n",
    "X_test = scaler.transform(X_test) \n",
    "\n",
    "pca = PCA(n_components = 3) \n",
    "\n",
    "#Transform both X_train and X_test using PCA\n",
    "X_train = pca.fit_transform(X_train) \n",
    "X_test = pca.transform(X_test) \n",
    "  \n",
    "explained_variance = pca.explained_variance_ratio_\n",
    "\n",
    "#Linear model\n",
    "lm = LinearRegression() \n",
    "reg = lm.fit(X_train, y_train) \n",
    "coef = reg.coef_\n",
    "print(\"The coefficients are\", coef)"
   ]
  },
  {
   "cell_type": "code",
   "execution_count": 5,
   "metadata": {},
   "outputs": [],
   "source": [
    "# Build functions to calculate five measurements\n",
    "\n",
    "def squared_error(y_observed,y_predicted):\n",
    "    y_observed = np.array(y_observed, dtype = np.float64)\n",
    "    y_predicted = np.array(y_predicted, dtype = np.float64)\n",
    "    return sum((y_predicted - y_observed) * (y_predicted - y_observed))\n",
    "\n",
    "def r_squared(y_observed,y_predicted):\n",
    "    y_observed = np.array(y_observed, dtype = np.float64)\n",
    "    y_predicted = np.array(y_predicted, dtype = np.float64)\n",
    "    y_mean = [y_observed.mean() for y in y_observed]\n",
    "    squared_error_regr = squared_error(y_observed, y_predicted)\n",
    "    squared_error_mean = squared_error(y_observed, y_mean)\n",
    "    return 1 - (squared_error_regr/squared_error_mean) \n",
    "\n",
    "def mean_squared_error(y_observed,y_predicted):\n",
    "    y_observed = np.array(y_observed, dtype = np.float64)\n",
    "    y_predicted = np.array(y_predicted, dtype = np.float64)\n",
    "    return (squared_error(y_observed,y_predicted))*(1/len(y_observed))\n",
    "\n",
    "def root_mean_squared_error(y_observed, y_predicted):\n",
    "    y_observed = np.array(y_observed, dtype = np.float64)\n",
    "    y_predicted = np.array(y_predicted, dtype = np.float64)\n",
    "    return math.sqrt(mean_squared_error(y_observed,y_predicted))\n",
    "\n",
    "def MAPE(y_observed, y_predicted):\n",
    "    y_observed = np.array(y_observed, dtype = np.float64)\n",
    "    y_predicted = np.array(y_predicted, dtype = np.float64)\n",
    "    return (abs((y_observed - y_predicted)/y_observed) * 100).mean()"
   ]
  },
  {
   "cell_type": "code",
   "execution_count": 9,
   "metadata": {},
   "outputs": [],
   "source": [
    "#Create a table that shows error rates corresponding to PCA\n",
    "d = {'CV': ['PCA'], 'R-squared': [r_squared(y_test, list(reg.predict(X_test)))], 'MSE': [mean_squared_error(y_test, list(reg.predict(X_test)))], 'Root MSE': [root_mean_squared_error(y_test, list(reg.predict(X_test)))], 'MAPE': [MAPE(y_test, list(reg.predict(X_test)))]}\n",
    "table = pd.DataFrame(d)"
   ]
  },
  {
   "cell_type": "code",
   "execution_count": 10,
   "metadata": {},
   "outputs": [
    {
     "data": {
      "text/html": [
       "<div>\n",
       "<style scoped>\n",
       "    .dataframe tbody tr th:only-of-type {\n",
       "        vertical-align: middle;\n",
       "    }\n",
       "\n",
       "    .dataframe tbody tr th {\n",
       "        vertical-align: top;\n",
       "    }\n",
       "\n",
       "    .dataframe thead th {\n",
       "        text-align: right;\n",
       "    }\n",
       "</style>\n",
       "<table border=\"1\" class=\"dataframe\">\n",
       "  <thead>\n",
       "    <tr style=\"text-align: right;\">\n",
       "      <th></th>\n",
       "      <th>CV</th>\n",
       "      <th>R-squared</th>\n",
       "      <th>MSE</th>\n",
       "      <th>Root MSE</th>\n",
       "      <th>MAPE</th>\n",
       "    </tr>\n",
       "  </thead>\n",
       "  <tbody>\n",
       "    <tr>\n",
       "      <th>0</th>\n",
       "      <td>PCA</td>\n",
       "      <td>-0.000458</td>\n",
       "      <td>14319.729914</td>\n",
       "      <td>119.665074</td>\n",
       "      <td>70.287971</td>\n",
       "    </tr>\n",
       "  </tbody>\n",
       "</table>\n",
       "</div>"
      ],
      "text/plain": [
       "    CV  R-squared           MSE    Root MSE       MAPE\n",
       "0  PCA  -0.000458  14319.729914  119.665074  70.287971"
      ]
     },
     "execution_count": 10,
     "metadata": {},
     "output_type": "execute_result"
    }
   ],
   "source": [
    "table"
   ]
  },
  {
   "cell_type": "code",
   "execution_count": 11,
   "metadata": {},
   "outputs": [
    {
     "data": {
      "text/html": [
       "<div>\n",
       "<style scoped>\n",
       "    .dataframe tbody tr th:only-of-type {\n",
       "        vertical-align: middle;\n",
       "    }\n",
       "\n",
       "    .dataframe tbody tr th {\n",
       "        vertical-align: top;\n",
       "    }\n",
       "\n",
       "    .dataframe thead th {\n",
       "        text-align: right;\n",
       "    }\n",
       "</style>\n",
       "<table border=\"1\" class=\"dataframe\">\n",
       "  <thead>\n",
       "    <tr style=\"text-align: right;\">\n",
       "      <th></th>\n",
       "      <th>CV</th>\n",
       "      <th>R-squared</th>\n",
       "      <th>MSE</th>\n",
       "      <th>Root MSE</th>\n",
       "      <th>MAPE</th>\n",
       "    </tr>\n",
       "  </thead>\n",
       "  <tbody>\n",
       "    <tr>\n",
       "      <th>0</th>\n",
       "      <td>Train/Test CV</td>\n",
       "      <td>0.036000</td>\n",
       "      <td>11762.560000</td>\n",
       "      <td>108.460000</td>\n",
       "      <td>67.750000</td>\n",
       "    </tr>\n",
       "    <tr>\n",
       "      <th>1</th>\n",
       "      <td>K-Fold CV</td>\n",
       "      <td>0.035000</td>\n",
       "      <td>11779.530000</td>\n",
       "      <td>108.530000</td>\n",
       "      <td>71.360000</td>\n",
       "    </tr>\n",
       "    <tr>\n",
       "      <th>2</th>\n",
       "      <td>LOOCV</td>\n",
       "      <td>0.038000</td>\n",
       "      <td>11737.480000</td>\n",
       "      <td>108.340000</td>\n",
       "      <td>67.940000</td>\n",
       "    </tr>\n",
       "    <tr>\n",
       "      <th>0</th>\n",
       "      <td>PCA</td>\n",
       "      <td>-0.000458</td>\n",
       "      <td>14319.729914</td>\n",
       "      <td>119.665074</td>\n",
       "      <td>70.287971</td>\n",
       "    </tr>\n",
       "  </tbody>\n",
       "</table>\n",
       "</div>"
      ],
      "text/plain": [
       "              CV  R-squared           MSE    Root MSE       MAPE\n",
       "0  Train/Test CV   0.036000  11762.560000  108.460000  67.750000\n",
       "1      K-Fold CV   0.035000  11779.530000  108.530000  71.360000\n",
       "2          LOOCV   0.038000  11737.480000  108.340000  67.940000\n",
       "0            PCA  -0.000458  14319.729914  119.665074  70.287971"
      ]
     },
     "execution_count": 11,
     "metadata": {},
     "output_type": "execute_result"
    }
   ],
   "source": [
    "#Load error rate table from Part III and append PCA error rate table\n",
    "error_table = pd.read_csv('error_table.csv')\n",
    "error_table.append(table)"
   ]
  },
  {
   "cell_type": "code",
   "execution_count": 12,
   "metadata": {},
   "outputs": [],
   "source": [
    "#Convert X to dataframe then to CSV for later use\n",
    "pd.DataFrame(np.concatenate((X_train, X_test), 0)).to_csv('pca.csv', index=False)"
   ]
  },
  {
   "cell_type": "code",
   "execution_count": null,
   "metadata": {},
   "outputs": [],
   "source": [
    "\"\"\"The result of cross validations explain more variantion in the fit of linear regression. Because:\n",
    "    1. The r-squared for PCA is negative and smaller than the r-squareds of cross validations\n",
    "    2. Lower Mean Squared Error(MSE) means the predicated values are closer to the actual values. The MSE for PCA is higher than cross validations.\n",
    "    3. The Root Mean Squared Error(RMSE) for PCA is higher than cross validations.\n",
    "    4. The Mean Absolute Percent Error(MAPE) for PCA is bigger than the MAPE for train/test CV and LOOCV. \n",
    "\"\"\""
   ]
  }
 ],
 "metadata": {
  "kernelspec": {
   "display_name": "Python 3",
   "language": "python",
   "name": "python3"
  },
  "language_info": {
   "codemirror_mode": {
    "name": "ipython",
    "version": 3
   },
   "file_extension": ".py",
   "mimetype": "text/x-python",
   "name": "python",
   "nbconvert_exporter": "python",
   "pygments_lexer": "ipython3",
   "version": "3.7.6"
  }
 },
 "nbformat": 4,
 "nbformat_minor": 4
}
