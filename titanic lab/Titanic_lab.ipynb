{
 "cells": [
  {
   "cell_type": "code",
   "execution_count": 21,
   "metadata": {},
   "outputs": [],
   "source": [
    "import pandas as pd \n",
    "import math\n",
    "import numpy as np\n",
    "import matplotlib.pyplot as plt\n",
    "pd.options.mode.chained_assignment = None\n",
    "\n",
    "titanic_df=pd.read_excel(\"titanic_data.xlsx\")\n",
    "titanic_df\n",
    "with_m=titanic_df"
   ]
  },
  {
   "cell_type": "code",
   "execution_count": 22,
   "metadata": {},
   "outputs": [
    {
     "name": "stdout",
     "output_type": "stream",
     "text": [
      "The number of missing values are 177\n",
      "The percentage of missing values is 24.79%\n"
     ]
    }
   ],
   "source": [
    "#Q1\n",
    "titanic_df=titanic_df.dropna(subset=[\"Age\"])\n",
    "n_missing=len(with_m)-len(titanic_df)\n",
    "print(\"The number of missing values are\", n_missing)\n",
    "perc_m= (n_missing/len(titanic_df))\n",
    "print(\"The percentage of missing values is {:.2%}\".format(perc_m))\n"
   ]
  },
  {
   "cell_type": "code",
   "execution_count": 23,
   "metadata": {},
   "outputs": [
    {
     "data": {
      "text/html": [
       "<div>\n",
       "<style scoped>\n",
       "    .dataframe tbody tr th:only-of-type {\n",
       "        vertical-align: middle;\n",
       "    }\n",
       "\n",
       "    .dataframe tbody tr th {\n",
       "        vertical-align: top;\n",
       "    }\n",
       "\n",
       "    .dataframe thead th {\n",
       "        text-align: right;\n",
       "    }\n",
       "</style>\n",
       "<table border=\"1\" class=\"dataframe\">\n",
       "  <thead>\n",
       "    <tr style=\"text-align: right;\">\n",
       "      <th></th>\n",
       "      <th>PassengerId</th>\n",
       "      <th>Survived</th>\n",
       "      <th>Pclass</th>\n",
       "      <th>Name</th>\n",
       "      <th>Sex</th>\n",
       "      <th>Age</th>\n",
       "      <th>SibSp</th>\n",
       "      <th>Parch</th>\n",
       "      <th>Ticket</th>\n",
       "      <th>Fare</th>\n",
       "      <th>Cabin</th>\n",
       "      <th>Embarked</th>\n",
       "      <th>NotAlone</th>\n",
       "    </tr>\n",
       "  </thead>\n",
       "  <tbody>\n",
       "    <tr>\n",
       "      <th>0</th>\n",
       "      <td>1</td>\n",
       "      <td>0</td>\n",
       "      <td>3</td>\n",
       "      <td>Braund, Mr. Owen Harris</td>\n",
       "      <td>male</td>\n",
       "      <td>22.0</td>\n",
       "      <td>1</td>\n",
       "      <td>0</td>\n",
       "      <td>A/5 21171</td>\n",
       "      <td>7.2500</td>\n",
       "      <td>NaN</td>\n",
       "      <td>S</td>\n",
       "      <td>1</td>\n",
       "    </tr>\n",
       "    <tr>\n",
       "      <th>1</th>\n",
       "      <td>2</td>\n",
       "      <td>1</td>\n",
       "      <td>1</td>\n",
       "      <td>Cumings, Mrs. John Bradley (Florence Briggs Th...</td>\n",
       "      <td>female</td>\n",
       "      <td>38.0</td>\n",
       "      <td>1</td>\n",
       "      <td>0</td>\n",
       "      <td>PC 17599</td>\n",
       "      <td>71.2833</td>\n",
       "      <td>C85</td>\n",
       "      <td>C</td>\n",
       "      <td>1</td>\n",
       "    </tr>\n",
       "    <tr>\n",
       "      <th>2</th>\n",
       "      <td>3</td>\n",
       "      <td>1</td>\n",
       "      <td>3</td>\n",
       "      <td>Heikkinen, Miss. Laina</td>\n",
       "      <td>female</td>\n",
       "      <td>26.0</td>\n",
       "      <td>0</td>\n",
       "      <td>0</td>\n",
       "      <td>STON/O2. 3101282</td>\n",
       "      <td>7.9250</td>\n",
       "      <td>NaN</td>\n",
       "      <td>S</td>\n",
       "      <td>0</td>\n",
       "    </tr>\n",
       "    <tr>\n",
       "      <th>3</th>\n",
       "      <td>4</td>\n",
       "      <td>1</td>\n",
       "      <td>1</td>\n",
       "      <td>Futrelle, Mrs. Jacques Heath (Lily May Peel)</td>\n",
       "      <td>female</td>\n",
       "      <td>35.0</td>\n",
       "      <td>1</td>\n",
       "      <td>0</td>\n",
       "      <td>113803</td>\n",
       "      <td>53.1000</td>\n",
       "      <td>C123</td>\n",
       "      <td>S</td>\n",
       "      <td>1</td>\n",
       "    </tr>\n",
       "    <tr>\n",
       "      <th>4</th>\n",
       "      <td>5</td>\n",
       "      <td>0</td>\n",
       "      <td>3</td>\n",
       "      <td>Allen, Mr. William Henry</td>\n",
       "      <td>male</td>\n",
       "      <td>35.0</td>\n",
       "      <td>0</td>\n",
       "      <td>0</td>\n",
       "      <td>373450</td>\n",
       "      <td>8.0500</td>\n",
       "      <td>NaN</td>\n",
       "      <td>S</td>\n",
       "      <td>0</td>\n",
       "    </tr>\n",
       "    <tr>\n",
       "      <th>...</th>\n",
       "      <td>...</td>\n",
       "      <td>...</td>\n",
       "      <td>...</td>\n",
       "      <td>...</td>\n",
       "      <td>...</td>\n",
       "      <td>...</td>\n",
       "      <td>...</td>\n",
       "      <td>...</td>\n",
       "      <td>...</td>\n",
       "      <td>...</td>\n",
       "      <td>...</td>\n",
       "      <td>...</td>\n",
       "      <td>...</td>\n",
       "    </tr>\n",
       "    <tr>\n",
       "      <th>885</th>\n",
       "      <td>886</td>\n",
       "      <td>0</td>\n",
       "      <td>3</td>\n",
       "      <td>Rice, Mrs. William (Margaret Norton)</td>\n",
       "      <td>female</td>\n",
       "      <td>39.0</td>\n",
       "      <td>0</td>\n",
       "      <td>5</td>\n",
       "      <td>382652</td>\n",
       "      <td>29.1250</td>\n",
       "      <td>NaN</td>\n",
       "      <td>Q</td>\n",
       "      <td>1</td>\n",
       "    </tr>\n",
       "    <tr>\n",
       "      <th>886</th>\n",
       "      <td>887</td>\n",
       "      <td>0</td>\n",
       "      <td>2</td>\n",
       "      <td>Montvila, Rev. Juozas</td>\n",
       "      <td>male</td>\n",
       "      <td>27.0</td>\n",
       "      <td>0</td>\n",
       "      <td>0</td>\n",
       "      <td>211536</td>\n",
       "      <td>13.0000</td>\n",
       "      <td>NaN</td>\n",
       "      <td>S</td>\n",
       "      <td>0</td>\n",
       "    </tr>\n",
       "    <tr>\n",
       "      <th>887</th>\n",
       "      <td>888</td>\n",
       "      <td>1</td>\n",
       "      <td>1</td>\n",
       "      <td>Graham, Miss. Margaret Edith</td>\n",
       "      <td>female</td>\n",
       "      <td>19.0</td>\n",
       "      <td>0</td>\n",
       "      <td>0</td>\n",
       "      <td>112053</td>\n",
       "      <td>30.0000</td>\n",
       "      <td>B42</td>\n",
       "      <td>S</td>\n",
       "      <td>0</td>\n",
       "    </tr>\n",
       "    <tr>\n",
       "      <th>889</th>\n",
       "      <td>890</td>\n",
       "      <td>1</td>\n",
       "      <td>1</td>\n",
       "      <td>Behr, Mr. Karl Howell</td>\n",
       "      <td>male</td>\n",
       "      <td>26.0</td>\n",
       "      <td>0</td>\n",
       "      <td>0</td>\n",
       "      <td>111369</td>\n",
       "      <td>30.0000</td>\n",
       "      <td>C148</td>\n",
       "      <td>C</td>\n",
       "      <td>0</td>\n",
       "    </tr>\n",
       "    <tr>\n",
       "      <th>890</th>\n",
       "      <td>891</td>\n",
       "      <td>0</td>\n",
       "      <td>3</td>\n",
       "      <td>Dooley, Mr. Patrick</td>\n",
       "      <td>male</td>\n",
       "      <td>32.0</td>\n",
       "      <td>0</td>\n",
       "      <td>0</td>\n",
       "      <td>370376</td>\n",
       "      <td>7.7500</td>\n",
       "      <td>NaN</td>\n",
       "      <td>Q</td>\n",
       "      <td>0</td>\n",
       "    </tr>\n",
       "  </tbody>\n",
       "</table>\n",
       "<p>714 rows × 13 columns</p>\n",
       "</div>"
      ],
      "text/plain": [
       "     PassengerId  Survived  Pclass  \\\n",
       "0              1         0       3   \n",
       "1              2         1       1   \n",
       "2              3         1       3   \n",
       "3              4         1       1   \n",
       "4              5         0       3   \n",
       "..           ...       ...     ...   \n",
       "885          886         0       3   \n",
       "886          887         0       2   \n",
       "887          888         1       1   \n",
       "889          890         1       1   \n",
       "890          891         0       3   \n",
       "\n",
       "                                                  Name     Sex   Age  SibSp  \\\n",
       "0                              Braund, Mr. Owen Harris    male  22.0      1   \n",
       "1    Cumings, Mrs. John Bradley (Florence Briggs Th...  female  38.0      1   \n",
       "2                               Heikkinen, Miss. Laina  female  26.0      0   \n",
       "3         Futrelle, Mrs. Jacques Heath (Lily May Peel)  female  35.0      1   \n",
       "4                             Allen, Mr. William Henry    male  35.0      0   \n",
       "..                                                 ...     ...   ...    ...   \n",
       "885               Rice, Mrs. William (Margaret Norton)  female  39.0      0   \n",
       "886                              Montvila, Rev. Juozas    male  27.0      0   \n",
       "887                       Graham, Miss. Margaret Edith  female  19.0      0   \n",
       "889                              Behr, Mr. Karl Howell    male  26.0      0   \n",
       "890                                Dooley, Mr. Patrick    male  32.0      0   \n",
       "\n",
       "     Parch            Ticket     Fare Cabin Embarked  NotAlone  \n",
       "0        0         A/5 21171   7.2500   NaN        S         1  \n",
       "1        0          PC 17599  71.2833   C85        C         1  \n",
       "2        0  STON/O2. 3101282   7.9250   NaN        S         0  \n",
       "3        0            113803  53.1000  C123        S         1  \n",
       "4        0            373450   8.0500   NaN        S         0  \n",
       "..     ...               ...      ...   ...      ...       ...  \n",
       "885      5            382652  29.1250   NaN        Q         1  \n",
       "886      0            211536  13.0000   NaN        S         0  \n",
       "887      0            112053  30.0000   B42        S         0  \n",
       "889      0            111369  30.0000  C148        C         0  \n",
       "890      0            370376   7.7500   NaN        Q         0  \n",
       "\n",
       "[714 rows x 13 columns]"
      ]
     },
     "execution_count": 23,
     "metadata": {},
     "output_type": "execute_result"
    }
   ],
   "source": [
    "#Q2\n",
    "titanic_df.loc[:, \"NotAlone\"]=0\n",
    "\n",
    "for index,row in titanic_df.iterrows():\n",
    "    if row[\"SibSp\"]==0 and row[\"Parch\"]==0:\n",
    "        titanic_df.loc[index, \"NotAlone\"]=0\n",
    "    else:\n",
    "        titanic_df.loc[index, \"NotAlone\"]=1\n",
    "titanic_df        "
   ]
  },
  {
   "cell_type": "code",
   "execution_count": 24,
   "metadata": {},
   "outputs": [
    {
     "name": "stdout",
     "output_type": "stream",
     "text": [
      "There are 186 people in the first class\n",
      "There are 173 people in the second class\n",
      "There are 355 people in the third class\n",
      "The biggest passenger class is the third class\n"
     ]
    }
   ],
   "source": [
    "#Q3:\n",
    "titanic_df1=titanic_df.groupby(\"Pclass\")\n",
    "\n",
    "titanic_df_passenger_class_1 = titanic_df1.get_group(1)\n",
    "titanic_df_passenger_class_2 = titanic_df1.get_group(2)\n",
    "titanic_df_passenger_class_3 = titanic_df1.get_group(3)\n",
    "\n",
    "print(\"There are\",len(titanic_df_passenger_class_1), \"people in the first class\")\n",
    "print(\"There are\", len(titanic_df_passenger_class_2), \"people in the second class\")\n",
    "print(\"There are\", len(titanic_df_passenger_class_3), \"people in the third class\")\n",
    "print(\"The biggest passenger class is the third class\")\n",
    "\n"
   ]
  },
  {
   "cell_type": "code",
   "execution_count": 25,
   "metadata": {},
   "outputs": [
    {
     "name": "stdout",
     "output_type": "stream",
     "text": [
      "The mean age for class 1 is 38.233440860215055\n",
      "The median age for class 1 is 37.0\n",
      "\n",
      "\n",
      "The mean fare for class 1 is 87.96158225806447\n",
      "The median fare for class 1 is 69.3\n",
      "\n",
      "\n",
      "\n",
      "The mean age for class 2 is 29.87763005780347\n",
      "The median age for class 2 is 29.0\n",
      "\n",
      "\n",
      "The mean fare for class 2 is 21.47155606936416\n",
      "The median fare for class 2 is 15.0458\n",
      "\n",
      "\n",
      "\n",
      "The mean age for class 3 is 25.14061971830986\n",
      "The median age for class 3 is 24.0\n",
      "\n",
      "\n",
      "The mean fare for class 3 is 13.229435211267623\n",
      "The median fare for class 3 is 8.05\n",
      "\n",
      "\n",
      "\n",
      "Class 1 has the highest mean age and Class 3 has the lowest mean age\n",
      "Class 1 has the highest mean fare and Class 3 has the lowest mean fare\n",
      "Class 1 has the highest median age and Class 3 has the lowest median age\n",
      "Class1 has the highest median fare and Class 3 has the lowest median fare\n"
     ]
    }
   ],
   "source": [
    "# titanic_df_passenger_class_1\n",
    "# Age\n",
    "print(\"The mean age for class 1 is\",titanic_df_passenger_class_1['Age'].mean())\n",
    "print(\"The median age for class 1 is\",titanic_df_passenger_class_1['Age'].median())\n",
    "#Fare\n",
    "print(\"\\n\")\n",
    "print(\"The mean fare for class 1 is\",titanic_df_passenger_class_1['Fare'].mean())\n",
    "print(\"The median fare for class 1 is\",titanic_df_passenger_class_1['Fare'].median())\n",
    "print(\"\\n\\n\")\n",
    "# titanic_df_passenger_class_2\n",
    "# Age\n",
    "print(\"The mean age for class 2 is\",titanic_df_passenger_class_2['Age'].mean())\n",
    "print(\"The median age for class 2 is\",titanic_df_passenger_class_2['Age'].median())\n",
    "print(\"\\n\")\n",
    "#Fare\n",
    "print(\"The mean fare for class 2 is\",titanic_df_passenger_class_2['Fare'].mean())\n",
    "print(\"The median fare for class 2 is\",titanic_df_passenger_class_2['Fare'].median())\n",
    "print(\"\\n\\n\")\n",
    "# titanic_df_passenger_class_3\n",
    "# Age\n",
    "print(\"The mean age for class 3 is\",titanic_df_passenger_class_3['Age'].mean())\n",
    "print(\"The median age for class 3 is\",titanic_df_passenger_class_3['Age'].median())\n",
    "print(\"\\n\")\n",
    "#Fare\n",
    "print(\"The mean fare for class 3 is\",titanic_df_passenger_class_3['Fare'].mean())\n",
    "print(\"The median fare for class 3 is\",titanic_df_passenger_class_3['Fare'].median())\n",
    "print(\"\\n\\n\")\n",
    "print(\"Class 1 has the highest mean age and Class 3 has the lowest mean age\")\n",
    "print(\"Class 1 has the highest mean fare and Class 3 has the lowest mean fare\")\n",
    "print(\"Class 1 has the highest median age and Class 3 has the lowest median age\")\n",
    "print(\"Class1 has the highest median fare and Class 3 has the lowest median fare\")\n"
   ]
  },
  {
   "cell_type": "code",
   "execution_count": 26,
   "metadata": {},
   "outputs": [
    {
     "name": "stdout",
     "output_type": "stream",
     "text": [
      "There are 290 survived\n",
      "There are 424 unsurvived\n"
     ]
    }
   ],
   "source": [
    "#Q4:\n",
    "titanic_df_survived=[]\n",
    "titanic_df_not_survived=[]\n",
    "for index,row in titanic_df.iterrows():\n",
    "    if row[\"Survived\"]==1:\n",
    "        titanic_df_survived.append(row)\n",
    "    else:\n",
    "        titanic_df_not_survived.append(row)\n",
    "titanic_df_survived=pd.DataFrame(titanic_df_survived)\n",
    "titanic_df_not_survived= pd.DataFrame(titanic_df_not_survived)\n",
    "len(titanic_df_survived)\n",
    "len(titanic_df_not_survived)\n",
    "\n",
    "print(\"There are\",len(titanic_df_survived), \"survived\" )\n",
    "print(\"There are\",len(titanic_df_not_survived), \"unsurvived\" )"
   ]
  },
  {
   "cell_type": "code",
   "execution_count": 27,
   "metadata": {},
   "outputs": [
    {
     "name": "stdout",
     "output_type": "stream",
     "text": [
      "Number of people survived in class 1: 122\n",
      "Number of people did not survived in class 1: 64\n",
      "Number of people survived in class 2: 83\n",
      "Number of people did not survived in class 2: 90\n",
      "Number of people survived in class 3: 85\n",
      "Number of people did notsurvived in class 3: 270\n"
     ]
    }
   ],
   "source": [
    "#Calculate how many people survived and how many people died in each passenger class\n",
    "print('Number of people survived in class 1: '+str(titanic_df_passenger_class_1['Survived'].value_counts()[1])) #Separate the Suvived column into 0(did not suvived) and 1(survived), and count their frequency\n",
    "print('Number of people did not survived in class 1: '+str(titanic_df_passenger_class_1['Survived'].value_counts()[0]))\n",
    "print('Number of people survived in class 2: '+str(titanic_df_passenger_class_2['Survived'].value_counts()[1]))\n",
    "print('Number of people did not survived in class 2: '+str(titanic_df_passenger_class_2['Survived'].value_counts()[0]))\n",
    "print('Number of people survived in class 3: '+str(titanic_df_passenger_class_3['Survived'].value_counts()[1]))\n",
    "print('Number of people did notsurvived in class 3: '+str(titanic_df_passenger_class_3['Survived'].value_counts()[0]))"
   ]
  },
  {
   "cell_type": "code",
   "execution_count": 29,
   "metadata": {},
   "outputs": [
    {
     "data": {
      "text/plain": [
       "'    # Square deviations\\n    deviations = []\\n    for x in data:\\n        deviations.append((x-mean)**2)\\n    deviations = [(x - mean) ** 2 for x in data]\\n    # Variance\\n    variance = sum(deviations) / len(data)\\n    return variance\\n\\ndef stdev(data):\\n    var = variance(data)\\n    std_dev = math.sqrt(var)\\n    return std_dev\\n    \\ndef corr(data1, data2):\\n    mean1 = sum(data1) / len(data1)\\n    mean2 = sum(data2) / len(data2)\\n    dev1 = [(x - mean1) for x in data1]\\n    dev2 = [(x - mean2) for x in data2]\\n    dev3 = []\\n    for x,y in zip(dev1,dev2):\\n        dev3.append(x*y)\\n    corr = (sum(dev3))/(stdev(data1)*stdev(data2))\\n    return corr/len(data1)'"
      ]
     },
     "execution_count": 29,
     "metadata": {},
     "output_type": "execute_result"
    }
   ],
   "source": [
    "#Question 5:\n",
    "def variance(data):\n",
    "    # Mean of the data\n",
    "    mean = sum(data) / len(data)\n",
    "    print(sum(data))\n",
    "    # Square deviations\n",
    "    deviations = []\n",
    "    for x in data:\n",
    "        deviations.append((x-mean)**2)\n",
    "    deviations = [(x - mean) ** 2 for x in data]\n",
    "    # Variance\n",
    "    variance = sum(deviations) / len(data)\n",
    "    return variance\n",
    "\n",
    "def stdev(data):\n",
    "    var = variance(data)\n",
    "    std_dev = math.sqrt(var)\n",
    "    return std_dev\n",
    "    \n",
    "def corr(data1, data2):\n",
    "    mean1 = sum(data1) / len(data1)\n",
    "    mean2 = sum(data2) / len(data2)\n",
    "    dev1 = [(x - mean1) for x in data1]\n",
    "    dev2 = [(x - mean2) for x in data2]\n",
    "    dev3 = []\n",
    "    for x,y in zip(dev1,dev2):\n",
    "        dev3.append(x*y)\n",
    "    corr = (sum(dev3))/(stdev(data1)*stdev(data2))\n",
    "    return corr/len(data1)"
   ]
  },
  {
   "cell_type": "code",
   "execution_count": 20,
   "metadata": {},
   "outputs": [
    {
     "name": "stdout",
     "output_type": "stream",
     "text": [
      "290\n",
      "290\n",
      "290\n",
      "21205.17\n",
      "290\n",
      "366\n",
      "290\n",
      "308\n",
      "290\n",
      "24771.882999999958\n",
      "290\n",
      "310\n",
      "21205.17\n",
      "290\n",
      "21205.17\n",
      "21205.17\n",
      "21205.17\n",
      "366\n",
      "21205.17\n",
      "308\n",
      "21205.17\n",
      "24771.882999999958\n",
      "21205.17\n",
      "310\n",
      "366\n",
      "290\n",
      "366\n",
      "21205.17\n",
      "366\n",
      "366\n",
      "366\n",
      "308\n",
      "366\n",
      "24771.882999999958\n",
      "366\n",
      "310\n",
      "308\n",
      "290\n",
      "308\n",
      "21205.17\n",
      "308\n",
      "366\n",
      "308\n",
      "308\n",
      "308\n",
      "24771.882999999958\n",
      "308\n",
      "310\n",
      "24771.882999999958\n",
      "290\n",
      "24771.882999999958\n",
      "21205.17\n",
      "24771.882999999958\n",
      "366\n",
      "24771.882999999958\n",
      "308\n",
      "24771.882999999958\n",
      "24771.882999999958\n",
      "24771.882999999958\n",
      "310\n",
      "310\n",
      "290\n",
      "310\n",
      "21205.17\n",
      "310\n",
      "366\n",
      "310\n",
      "308\n",
      "310\n",
      "24771.882999999958\n",
      "310\n",
      "310\n"
     ]
    },
    {
     "data": {
      "text/html": [
       "<div>\n",
       "<style scoped>\n",
       "    .dataframe tbody tr th:only-of-type {\n",
       "        vertical-align: middle;\n",
       "    }\n",
       "\n",
       "    .dataframe tbody tr th {\n",
       "        vertical-align: top;\n",
       "    }\n",
       "\n",
       "    .dataframe thead th {\n",
       "        text-align: right;\n",
       "    }\n",
       "</style>\n",
       "<table border=\"1\" class=\"dataframe\">\n",
       "  <thead>\n",
       "    <tr style=\"text-align: right;\">\n",
       "      <th></th>\n",
       "      <th>Survived</th>\n",
       "      <th>Age</th>\n",
       "      <th>SibSp</th>\n",
       "      <th>Parch</th>\n",
       "      <th>Fare</th>\n",
       "      <th>NotAlone</th>\n",
       "    </tr>\n",
       "  </thead>\n",
       "  <tbody>\n",
       "    <tr>\n",
       "      <th>Survived</th>\n",
       "      <td>1</td>\n",
       "      <td>-0.0772211</td>\n",
       "      <td>-0.0173584</td>\n",
       "      <td>0.093317</td>\n",
       "      <td>0.268189</td>\n",
       "      <td>0.19614</td>\n",
       "    </tr>\n",
       "    <tr>\n",
       "      <th>Age</th>\n",
       "      <td>-0.0772211</td>\n",
       "      <td>1</td>\n",
       "      <td>-0.308247</td>\n",
       "      <td>-0.189119</td>\n",
       "      <td>0.0960667</td>\n",
       "      <td>-0.19827</td>\n",
       "    </tr>\n",
       "    <tr>\n",
       "      <th>SibSp</th>\n",
       "      <td>-0.0173584</td>\n",
       "      <td>-0.308247</td>\n",
       "      <td>1</td>\n",
       "      <td>0.38382</td>\n",
       "      <td>0.138329</td>\n",
       "      <td>0.629818</td>\n",
       "    </tr>\n",
       "    <tr>\n",
       "      <th>Parch</th>\n",
       "      <td>0.093317</td>\n",
       "      <td>-0.189119</td>\n",
       "      <td>0.38382</td>\n",
       "      <td>1</td>\n",
       "      <td>0.205119</td>\n",
       "      <td>0.577524</td>\n",
       "    </tr>\n",
       "    <tr>\n",
       "      <th>Fare</th>\n",
       "      <td>0.268189</td>\n",
       "      <td>0.0960667</td>\n",
       "      <td>0.138329</td>\n",
       "      <td>0.205119</td>\n",
       "      <td>1</td>\n",
       "      <td>0.260136</td>\n",
       "    </tr>\n",
       "    <tr>\n",
       "      <th>NotAlone</th>\n",
       "      <td>0.19614</td>\n",
       "      <td>-0.19827</td>\n",
       "      <td>0.629818</td>\n",
       "      <td>0.577524</td>\n",
       "      <td>0.260136</td>\n",
       "      <td>1</td>\n",
       "    </tr>\n",
       "  </tbody>\n",
       "</table>\n",
       "</div>"
      ],
      "text/plain": [
       "           Survived        Age      SibSp     Parch       Fare  NotAlone\n",
       "Survived          1 -0.0772211 -0.0173584  0.093317   0.268189   0.19614\n",
       "Age      -0.0772211          1  -0.308247 -0.189119  0.0960667  -0.19827\n",
       "SibSp    -0.0173584  -0.308247          1   0.38382   0.138329  0.629818\n",
       "Parch      0.093317  -0.189119    0.38382         1   0.205119  0.577524\n",
       "Fare       0.268189  0.0960667   0.138329  0.205119          1  0.260136\n",
       "NotAlone    0.19614   -0.19827   0.629818  0.577524   0.260136         1"
      ]
     },
     "execution_count": 20,
     "metadata": {},
     "output_type": "execute_result"
    }
   ],
   "source": [
    "#Question 6:\n",
    "#\n",
    "corr_matrix = pd.DataFrame(index = ['Survived', 'Age', 'SibSp', 'Parch', 'Fare', 'NotAlone'],columns= ['Survived', 'Age', 'SibSp', 'Parch', 'Fare', 'NotAlone'])\n",
    "\n",
    "col = ['Survived', 'Age', 'SibSp', 'Parch', 'Fare', 'NotAlone']\n",
    "\n",
    "for x in col:\n",
    "    for y in col:\n",
    "        corr_matrix.at[x,y] = corr(titanic_df[x],titanic_df[y])\n",
    "corr_matrix"
   ]
  },
  {
   "cell_type": "code",
   "execution_count": 10,
   "metadata": {},
   "outputs": [
    {
     "data": {
      "text/plain": [
       "52.881858444051744"
      ]
     },
     "execution_count": 10,
     "metadata": {},
     "output_type": "execute_result"
    }
   ],
   "source": [
    "#Question 7:\n",
    "#Calculate the standard deviation for Age and Fare\n",
    "stdev(titanic_df['Age'])\n",
    "stdev(titanic_df['Fare'])\n",
    "\n",
    "#The standard deviation for Age is 14.516321150817317\n",
    "#The standard deviation for Fare is 52.881858444051744"
   ]
  },
  {
   "cell_type": "code",
   "execution_count": 11,
   "metadata": {},
   "outputs": [
    {
     "name": "stdout",
     "output_type": "stream",
     "text": [
      "The female survival rate in the first class is 96.47%\n",
      "The female survival rate in the second class is 91.89%\n",
      "The female survival rate in the third class is 46.08%\n"
     ]
    }
   ],
   "source": [
    "#Q8:\n",
    "female_1=titanic_df.loc[(titanic_df[\"Sex\"]==\"female\")& (titanic_df[\"Pclass\"]==1), :]\n",
    "Psurv_fem1= len(female_1.loc[titanic_df[\"Survived\"]==1, :])/len(female_1)\n",
    "print(\"The female survival rate in the first class is {:.2%}\".format(Psurv_fem1))\n",
    "\n",
    "female_2=titanic_df.loc[(titanic_df[\"Sex\"]==\"female\")& (titanic_df[\"Pclass\"]==2), :]\n",
    "Psurv_fem2= len(female_2.loc[titanic_df[\"Survived\"]==1, :])/len(female_2)\n",
    "print(\"The female survival rate in the second class is {:.2%}\".format(Psurv_fem2))\n",
    "\n",
    "female_3=titanic_df.loc[(titanic_df[\"Sex\"]==\"female\")& (titanic_df[\"Pclass\"]==3), :]\n",
    "Psurv_fem3= len(female_3.loc[titanic_df[\"Survived\"]==1, :])/len(female_3)\n",
    "print(\"The female survival rate in the third class is {:.2%}\".format(Psurv_fem3))"
   ]
  },
  {
   "cell_type": "code",
   "execution_count": 12,
   "metadata": {},
   "outputs": [
    {
     "name": "stdout",
     "output_type": "stream",
     "text": [
      "The male survival rate in the first class is 39.60%\n",
      "The male survival rate in the second class is 15.15%\n",
      "The male survival rate in the third class is 15.02%\n",
      "\n",
      "\n",
      "Female in the first class have highest survival rate, while male in the third class have lowest survival rate\n"
     ]
    }
   ],
   "source": [
    "male_1=titanic_df.loc[(titanic_df[\"Sex\"]==\"male\")& (titanic_df[\"Pclass\"]==1), :]\n",
    "Psurv_m1= len(male_1.loc[titanic_df[\"Survived\"]==1, :])/len(male_1)\n",
    "print(\"The male survival rate in the first class is {:.2%}\".format(Psurv_m1))\n",
    "\n",
    "male_2=titanic_df.loc[(titanic_df[\"Sex\"]==\"male\")& (titanic_df[\"Pclass\"]==2), :]\n",
    "Psurv_m2= len(male_2.loc[titanic_df[\"Survived\"]==1, :])/len(male_2)\n",
    "print(\"The male survival rate in the second class is {:.2%}\".format(Psurv_m2))\n",
    "\n",
    "male_3=titanic_df.loc[(titanic_df[\"Sex\"]==\"male\")& (titanic_df[\"Pclass\"]==3), :]\n",
    "Psurv_m3= len(male_3.loc[titanic_df[\"Survived\"]==1, :])/len(male_3)\n",
    "print(\"The male survival rate in the third class is {:.2%}\".format(Psurv_m3))\n",
    "print(\"\\n\")\n",
    "print(\"Female in the first class have highest survival rate, while male in the third class have lowest survival rate\")\n"
   ]
  },
  {
   "cell_type": "code",
   "execution_count": 13,
   "metadata": {},
   "outputs": [
    {
     "name": "stdout",
     "output_type": "stream",
     "text": [
      "The survival rate for child at age 10 or less in the third class is 6.16%\n"
     ]
    }
   ],
   "source": [
    "child=titanic_df.loc[(titanic_df[\"Age\"]<=10) & (titanic_df[\"Pclass\"]==3), :]\n",
    "Pchild=len(child)/len(titanic_df)\n",
    "print(\"The survival rate for child at age 10 or less in the third class is {:.2%}\".format(Pchild))"
   ]
  },
  {
   "cell_type": "code",
   "execution_count": 14,
   "metadata": {},
   "outputs": [
    {
     "name": "stdout",
     "output_type": "stream",
     "text": [
      "The expectation of fare for class 1 is 16360.85\n",
      "The expectation of fare for class 2 is 3714.58\n",
      "The expectation of fare for class 3 is 4696.45\n"
     ]
    }
   ],
   "source": [
    "Eclass1=titanic_df.loc[titanic_df[\"Pclass\"]==1, \"Fare\"].sum().round(2)\n",
    "Eclass2=titanic_df.loc[titanic_df[\"Pclass\"]==2, \"Fare\"].sum().round(2)\n",
    "Eclass3=titanic_df.loc[titanic_df[\"Pclass\"]==3, \"Fare\"].sum().round(2)\n",
    "print(\"The expectation of fare for class 1 is\", Eclass1)\n",
    "print(\"The expectation of fare for class 2 is\", Eclass2)\n",
    "print(\"The expectation of fare for class 3 is\", Eclass3)"
   ]
  },
  {
   "cell_type": "code",
   "execution_count": 1,
   "metadata": {},
   "outputs": [
    {
     "ename": "NameError",
     "evalue": "name 'titanic_df' is not defined",
     "output_type": "error",
     "traceback": [
      "\u001b[0;31m---------------------------------------------------------------------------\u001b[0m",
      "\u001b[0;31mNameError\u001b[0m                                 Traceback (most recent call last)",
      "\u001b[0;32m<ipython-input-1-a661f05cef7c>\u001b[0m in \u001b[0;36m<module>\u001b[0;34m\u001b[0m\n\u001b[1;32m      3\u001b[0m \u001b[0mrandom\u001b[0m\u001b[0;34m=\u001b[0m\u001b[0;36m0\u001b[0m\u001b[0;34m\u001b[0m\u001b[0;34m\u001b[0m\u001b[0m\n\u001b[1;32m      4\u001b[0m \u001b[0mtitle_list\u001b[0m\u001b[0;34m=\u001b[0m\u001b[0;34m[\u001b[0m\u001b[0;34m]\u001b[0m\u001b[0;34m\u001b[0m\u001b[0;34m\u001b[0m\u001b[0m\n\u001b[0;32m----> 5\u001b[0;31m \u001b[0;32mfor\u001b[0m \u001b[0mindex\u001b[0m\u001b[0;34m,\u001b[0m\u001b[0mrow\u001b[0m \u001b[0;32min\u001b[0m \u001b[0mtitanic_df\u001b[0m\u001b[0;34m.\u001b[0m\u001b[0miterrows\u001b[0m\u001b[0;34m(\u001b[0m\u001b[0;34m)\u001b[0m\u001b[0;34m:\u001b[0m\u001b[0;34m\u001b[0m\u001b[0;34m\u001b[0m\u001b[0m\n\u001b[0m\u001b[1;32m      6\u001b[0m     \u001b[0mm\u001b[0m\u001b[0;34m=\u001b[0m\u001b[0mrow\u001b[0m\u001b[0;34m[\u001b[0m\u001b[0;34m\"Name\"\u001b[0m\u001b[0;34m]\u001b[0m\u001b[0;34m.\u001b[0m\u001b[0msplit\u001b[0m\u001b[0;34m(\u001b[0m\u001b[0;34m\", \"\u001b[0m\u001b[0;34m)\u001b[0m\u001b[0;34m\u001b[0m\u001b[0;34m\u001b[0m\u001b[0m\n\u001b[1;32m      7\u001b[0m     \u001b[0mall_title\u001b[0m\u001b[0;34m.\u001b[0m\u001b[0mappend\u001b[0m\u001b[0;34m(\u001b[0m\u001b[0mm\u001b[0m\u001b[0;34m[\u001b[0m\u001b[0;36m1\u001b[0m\u001b[0;34m]\u001b[0m\u001b[0;34m)\u001b[0m\u001b[0;34m\u001b[0m\u001b[0;34m\u001b[0m\u001b[0m\n",
      "\u001b[0;31mNameError\u001b[0m: name 'titanic_df' is not defined"
     ]
    }
   ],
   "source": [
    "#9\n",
    "all_title=[]\n",
    "random=0\n",
    "title_list=[]\n",
    "for index,row in titanic_df.iterrows():\n",
    "    m=row[\"Name\"].split(\", \")\n",
    "    all_title.append(m[1])\n",
    "\n",
    "all_title1=[]\n",
    "for rd in all_title:\n",
    "    rd=rd.split(\".\")\n",
    "    all_title1.append(rd[0])\n",
    "    \n",
    "for i in all_title1:\n",
    "    random=i\n",
    "    if random in title_list:\n",
    "        pass\n",
    "    else:\n",
    "        title_list.append(random)\n",
    "        \n",
    "titanic_df['Title'] = np.array(all_title1)\n",
    "print(title_list)\n",
    "\n"
   ]
  },
  {
   "cell_type": "code",
   "execution_count": 16,
   "metadata": {},
   "outputs": [],
   "source": [
    "mr=len(titanic_df.loc[(titanic_df[\"Title\"]==\"Mr\"), :])/len(titanic_df)\n",
    "mrs=len(titanic_df.loc[(titanic_df[\"Title\"]==\"Mrs\"), :])/len(titanic_df)\n",
    "miss=len(titanic_df.loc[(titanic_df[\"Title\"]==\"Miss\"), :])/len(titanic_df)\n",
    "master=len(titanic_df.loc[(titanic_df[\"Title\"]==\"Master\"), :])/len(titanic_df)\n",
    "don=len(titanic_df.loc[(titanic_df[\"Title\"]==\"Don\"), :])/len(titanic_df)\n",
    "rev=len(titanic_df.loc[(titanic_df[\"Title\"]==\"Rev\"), :])/len(titanic_df)\n",
    "dr=len(titanic_df.loc[(titanic_df[\"Title\"]==\"Dr\"), :])/len(titanic_df)\n",
    "mme=len(titanic_df.loc[(titanic_df[\"Title\"]==\"Mme\"), :])/len(titanic_df)\n",
    "\n",
    "ms=len(titanic_df.loc[(titanic_df[\"Title\"]==\"Ms\"), :])/len(titanic_df)\n",
    "major=len(titanic_df.loc[(titanic_df[\"Title\"]==\"Major\"), :])/len(titanic_df)\n",
    "lady=len(titanic_df.loc[(titanic_df[\"Title\"]==\"Lady\"), :])/len(titanic_df)\n",
    "sir=len(titanic_df.loc[(titanic_df[\"Title\"]==\"Sir\"), :])/len(titanic_df)\n",
    "col=len(titanic_df.loc[(titanic_df[\"Title\"]==\"Col\"), :])/len(titanic_df)\n",
    "capt=len(titanic_df.loc[(titanic_df[\"Title\"]==\"Capt\"), :])/len(titanic_df)\n",
    "tcou=len(titanic_df.loc[(titanic_df[\"Title\"]==\"the Countess\"), :])/len(titanic_df)\n",
    "joh=len(titanic_df.loc[(titanic_df[\"Title\"]==\"Jonkheer\"), :])/len(titanic_df)\n"
   ]
  },
  {
   "cell_type": "code",
   "execution_count": 87,
   "metadata": {},
   "outputs": [
    {
     "name": "stdout",
     "output_type": "stream",
     "text": [
      "The survival rate for Mr is 55.74%\n",
      "The survival rate for Mrs is 15.13%\n",
      "The survival rate for Miss is 20.45%\n"
     ]
    }
   ],
   "source": [
    "print(\"The survival rate for Mr is {:.2%}\".format(mr))\n",
    "print(\"The survival rate for Mrs is {:.2%}\".format(mrs))\n",
    "print(\"The survival rate for Miss is {:.2%}\".format(miss))"
   ]
  },
  {
   "cell_type": "code",
   "execution_count": 83,
   "metadata": {},
   "outputs": [
    {
     "data": {
      "text/plain": [
       "Text(0.5, 1.0, 'Number of People Survived and Unsurvived')"
      ]
     },
     "execution_count": 83,
     "metadata": {},
     "output_type": "execute_result"
    },
    {
     "data": {
      "image/png": "[encoded data removed]",
      "text/plain": [
       "<Figure size 432x288 with 1 Axes>"
      ]
     },
     "metadata": {
      "needs_background": "light"
     },
     "output_type": "display_data"
    }
   ],
   "source": [
    "#Q10\n",
    "x_axis=(\"survived\",\"unsurvived\")\n",
    "number=[len(titanic_df_survived),len(titanic_df_not_survived)]\n",
    "plt.bar(x_axis, number, align='center', width=0.5, alpha=0.8, color=\"c\")\n",
    "plt.xlabel('Category')\n",
    "plt.ylabel('Number of people')\n",
    "plt.title('Number of People Survived and Unsurvived')\n"
   ]
  },
  {
   "cell_type": "code",
   "execution_count": 82,
   "metadata": {},
   "outputs": [
    {
     "data": {
      "text/plain": [
       "[Text(0, 0, '1'), Text(0, 0, '2'), Text(0, 0, '3')]"
      ]
     },
     "execution_count": 82,
     "metadata": {},
     "output_type": "execute_result"
    },
    {
     "data": {
      "image/png": "[encoded data removed]",
      "text/plain": [
       "<Figure size 432x288 with 2 Axes>"
      ]
     },
     "metadata": {
      "needs_background": "light"
     },
     "output_type": "display_data"
    }
   ],
   "source": [
    "sex=[\"femalew\",\"male\"]\n",
    "passenger_class=[1,2,3]\n",
    "\n",
    "survival_rate= np.array([[Psurv_fem1, Psurv_m1],[Psurv_fem2,\n",
    "                    Psurv_m2], [Psurv_fem3, Psurv_m3]])\n",
    "\n",
    "\n",
    "fig, ax = plt.subplots()\n",
    "heatmap = ax.imshow(survival_rate,cmap='viridis')\n",
    "\n",
    "plt.colorbar(heatmap)\n",
    "plt.title('Survival Rate in Different Sex and Passenger Class')\n",
    "\n",
    "ax.set_xticks(np.arange(len(sex)))\n",
    "ax.set_yticks(np.arange(3))\n",
    "\n",
    "ax.set_xticklabels(sex)\n",
    "ax.set_yticklabels(passenger_class)\n",
    "\n"
   ]
  },
  {
   "cell_type": "code",
   "execution_count": null,
   "metadata": {},
   "outputs": [],
   "source": []
  },
  {
   "cell_type": "code",
   "execution_count": null,
   "metadata": {},
   "outputs": [],
   "source": []
  }
 ],
 "metadata": {
  "kernelspec": {
   "display_name": "Python 3",
   "language": "python",
   "name": "python3"
  },
  "language_info": {
   "codemirror_mode": {
    "name": "ipython",
    "version": 3
   },
   "file_extension": ".py",
   "mimetype": "text/x-python",
   "name": "python",
   "nbconvert_exporter": "python",
   "pygments_lexer": "ipython3",
   "version": "3.7.6"
  }
 },
 "nbformat": 4,
 "nbformat_minor": 4
}
